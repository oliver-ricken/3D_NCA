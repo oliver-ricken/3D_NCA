{
  "cells": [
    {
      "cell_type": "markdown",
      "source": [
        "##V2 2D NCA##\n",
        "2/27/24"
      ],
      "metadata": {
        "id": "f6wsS91VT8By"
      }
    },
    {
      "cell_type": "markdown",
      "metadata": {
        "id": "crKXUX-dkIuC"
      },
      "source": [
        "Imports:"
      ]
    },
    {
      "cell_type": "code",
      "execution_count": 1,
      "metadata": {
        "id": "rTjsOMCbfcEF"
      },
      "outputs": [],
      "source": [
        "# Imports for loading / displaying image\n",
        "import io\n",
        "import PIL.Image, PIL.ImageDraw\n",
        "import requests\n",
        "from IPython.display import Image, HTML, clear_output\n",
        "\n",
        "# Standard imports\n",
        "import numpy as np\n",
        "import random\n",
        "from tqdm.auto import tqdm\n",
        "\n",
        "# TF / Keras\n",
        "import tensorflow as tf\n",
        "from tensorflow import keras\n",
        "from keras.layers import Conv2D\n",
        "from keras.layers import DepthwiseConv2D\n",
        "from keras.layers import concatenate\n",
        "from keras import Model\n",
        "from keras import Input"
      ]
    },
    {
      "cell_type": "markdown",
      "metadata": {
        "id": "1T5c4QXtkJ3_"
      },
      "source": [
        "Set the target emoji and parameters:"
      ]
    },
    {
      "cell_type": "code",
      "execution_count": 2,
      "metadata": {
        "id": "gWmWuocCfpaP"
      },
      "outputs": [],
      "source": [
        "# First select the target emoji (any Google emoji)\n",
        "target_emoji = \"🦎\"\n",
        "code = hex(ord(target_emoji))[2:].lower()\n",
        "target_url = 'https://github.com/googlefonts/noto-emoji/blob/main/png/128/emoji_u%s.png?raw=true'%code\n",
        "\n",
        "image_size = 72\n",
        "target_size = 40\n",
        "target_padding = (image_size - target_size) // 2\n",
        "\n",
        "# num_channels is the vector length in each cell\n",
        "num_channels = 16"
      ]
    },
    {
      "cell_type": "markdown",
      "metadata": {
        "id": "c5H9XnDR26g8"
      },
      "source": [
        "Load and display functions:"
      ]
    },
    {
      "cell_type": "code",
      "execution_count": 3,
      "metadata": {
        "id": "P8yUa_Lj3AkU"
      },
      "outputs": [],
      "source": [
        "def load_image(url, max_size = target_size):\n",
        "  \"\"\"load_image loads an image and pixelizes it\n",
        "\n",
        "  Args:\n",
        "    url of the image and the target size to return\n",
        "  Returns:\n",
        "    a normalized np array with values between 0 - 1 that stores the image data\n",
        "  \"\"\"\n",
        "  r = requests.get(url)\n",
        "  img = PIL.Image.open(io.BytesIO(r.content))\n",
        "  img.thumbnail((max_size, max_size), PIL.Image.ANTIALIAS)\n",
        "  img = np.float32(img) / 255.0\n",
        "  img[..., :3] *= img[..., 3:4]\n",
        "  return img\n",
        "\n",
        "def load_emoji(emoji):\n",
        "  \"\"\"load_emoji calls load_image on a passed in emoji\n",
        "\n",
        "  Args:\n",
        "    a string that contains a Google emoji\n",
        "  Returns:\n",
        "    a normalized np array that stores the emoji data\n",
        "  \"\"\"\n",
        "  code = hex(ord(emoji))[2:].lower()\n",
        "  url = 'https://github.com/googlefonts/noto-emoji/blob/main/png/128/emoji_u%s.png?raw=true'%code\n",
        "  return load_image(url)\n",
        "\n",
        "def to_rgb(x):\n",
        "  \"\"\"Converts an image with RGB values multiplied by alpha to standard RGB format.\n",
        "\n",
        "  Args:\n",
        "      x: A NumPy array representing the image with premultiplied RGBA.\n",
        "  Returns:\n",
        "      A NumPy array representing the image in RGB format.\n",
        "  \"\"\"\n",
        "  rgb, a = x[..., :3], x[...,3:4]\n",
        "  return 1.0 - a + rgb\n",
        "\n",
        "def np2pil(a):\n",
        "  \"\"\"Converts a NumPy array to a PIL image.\n",
        "\n",
        "  Args:\n",
        "      a: The NumPy array representing the image data.\n",
        "  Returns:\n",
        "      A PIL Image object.\n",
        "  \"\"\"\n",
        "  if a.dtype in [np.float32, np.float64]:\n",
        "    a = np.uint8(np.clip(a, 0, 1) * 255)\n",
        "  return PIL.Image.fromarray(a)\n",
        "\n",
        "def imwrite(f, a, fmt=None):\n",
        "  \"\"\"Saves a NumPy array as an image file.\n",
        "\n",
        "  Args:\n",
        "      f: File object or filename to save the image to.\n",
        "      a: NumPy array representing image data.\n",
        "      fmt: Optional. Specifies the desired output format.\n",
        "  \"\"\"\n",
        "  a = np.asarray(a)\n",
        "  if isinstance(f, str):\n",
        "    fmt = f.rsplit('.', 1)[-1].lower()\n",
        "    if fmt == 'jpg':\n",
        "      fmt = 'jpeg'\n",
        "    f = open(f, 'wb')\n",
        "  np2pil(a).save(f, fmt, quality=95)\n",
        "\n",
        "def imencode(a, fmt='jpeg'):\n",
        "  \"\"\"Encodes a NumPy array into a image format in memory, represented as bytes.\n",
        "\n",
        "  Args:\n",
        "      a: NumPy array representing the image data.\n",
        "      fmt: Specifies the image format (default 'jpeg').\n",
        "  Returns:\n",
        "      Bytes object containing the encoded image.\n",
        "  \"\"\"\n",
        "  a = np.asarray(a)\n",
        "  if len(a.shape) == 3 and a.shape[-1] == 4:\n",
        "    fmt = 'png'\n",
        "  f = io.BytesIO()\n",
        "  imwrite(f, a, fmt)\n",
        "  return f.getvalue()\n",
        "\n",
        "def imshow(a, fmt='jpeg'):\n",
        "  \"\"\"Displays a NumPy array as an image.\n",
        "\n",
        "  Args:\n",
        "      a: NumPy array representing the image data.\n",
        "      fmt: Specifies the image format (default 'jpeg').\n",
        "  \"\"\"\n",
        "  display(Image(data = imencode(a, fmt)))\n",
        "\n",
        "def zoom(img, scale=4):\n",
        "  \"\"\"Zooms an image by a specified scale factor, repeating pixels for enlargement.\n",
        "\n",
        "  Args:\n",
        "      img: The NumPy array representing the image to zoom.\n",
        "      scale: The zoom factor (default 4).\n",
        "  Returns:\n",
        "      A NumPy array representing the zoomed image.\n",
        "  \"\"\"\n",
        "  img = np.repeat(img, scale, 0)\n",
        "  img = np.repeat(img, scale, 1)\n",
        "  return img"
      ]
    },
    {
      "cell_type": "markdown",
      "source": [
        "Display the target image"
      ],
      "metadata": {
        "id": "6zFsc7auPs-L"
      }
    },
    {
      "cell_type": "code",
      "source": [
        "target_img = load_image(target_url, target_size)\n",
        "imshow(zoom(to_rgb(target_img), 6), fmt = 'png')"
      ],
      "metadata": {
        "colab": {
          "base_uri": "https://localhost:8080/",
          "height": 312
        },
        "id": "RR4PFZvZFnhR",
        "outputId": "e36f266b-52b0-486c-82eb-feeeceaab3b5"
      },
      "execution_count": 4,
      "outputs": [
        {
          "output_type": "stream",
          "name": "stderr",
          "text": [
            "<ipython-input-3-355ffec53c22>:11: DeprecationWarning: ANTIALIAS is deprecated and will be removed in Pillow 10 (2023-07-01). Use LANCZOS or Resampling.LANCZOS instead.\n",
            "  img.thumbnail((max_size, max_size), PIL.Image.ANTIALIAS)\n"
          ]
        },
        {
          "output_type": "display_data",
          "data": {
            "image/png": "[encoded data removed]",
            "text/plain": [
              "<IPython.core.display.Image object>"
            ]
          },
          "metadata": {}
        }
      ]
    },
    {
      "cell_type": "markdown",
      "source": [
        "We use MSE as our loss function"
      ],
      "metadata": {
        "id": "PlHbLK-CPx36"
      }
    },
    {
      "cell_type": "code",
      "execution_count": 5,
      "metadata": {
        "id": "mtSy6iTjI116"
      },
      "outputs": [],
      "source": [
        "def calc_loss(y_true, y_pred):\n",
        "  \"\"\"MSE between the first 4 channels of the current and target state\n",
        "\n",
        "  Args:\n",
        "    y_true, y_pred: TF tensors that contain the RGBA channel values for each pixel\n",
        "  Returns:\n",
        "    MSE Loss\n",
        "  \"\"\"\n",
        "  loss = tf.reduce_mean(tf.square(y_true[..., :4] - y_pred[..., :4]))\n",
        "  return loss"
      ]
    },
    {
      "cell_type": "code",
      "execution_count": 6,
      "metadata": {
        "id": "vlvr8EiWFsNr"
      },
      "outputs": [],
      "source": [
        "class CA():\n",
        "\n",
        "  def __init__(self, target_img, seed_type = 'seed'):\n",
        "    print(\"Seed and target initialized\")\n",
        "    self.update_count = 0\n",
        "    self.padded_target = self.pad_target(target_img)\n",
        "    self.model = model_step\n",
        "    self.opt = opt\n",
        "    self.seed_type = seed_type\n",
        "    self.set_seed()\n",
        "    # dummy evaluation so model is completely initialized\n",
        "    self.apply_model_step(self.state_grid)\n",
        "\n",
        "  def set_seed(self):\n",
        "    \"\"\"initializes what starting seed to grow from. Defaults to 'seed'.\n",
        "    The lizard model can also be initialized with 'diagonal' for quicker training.\n",
        "    \"\"\"\n",
        "    self.state_grid = np.zeros((1, image_size, image_size, num_channels), np.float32)\n",
        "    if self.seed_type == 'seed':\n",
        "      self.state_grid[0, image_size // 2, image_size // 2, 3:] = 1\n",
        "    elif self.seed_type == 'diagonal':\n",
        "      # lizard has values for columns from 16 to 55\n",
        "      y_indices = np.arange(26, 46)\n",
        "      x_indices = 26 + np.arange(len(y_indices))\n",
        "      for i in range(3, num_channels):\n",
        "        self.state_grid[0, y_indices, x_indices, i] = 1\n",
        "\n",
        "  def pad_target(self, target):\n",
        "    p = target_padding\n",
        "    padded = np.pad(target, [(p,p), (p,p), (0,0)])\n",
        "    return np.array([padded])\n",
        "\n",
        "  @tf.function\n",
        "  def get_living_mask(self, x):\n",
        "    \"\"\"Determines living state of a cell given state of neighbors\n",
        "\n",
        "    Args:\n",
        "      x: the current state for all the cells\n",
        "    Returns:\n",
        "      boolean array indicating if a cell should be considered alive or dead\n",
        "    \"\"\"\n",
        "    alpha = x[:, :, :, 3:4]\n",
        "    return tf.nn.max_pool2d(alpha, 3, [1, 1, 1, 1], 'SAME') > 0.1\n",
        "\n",
        "  def display_current_state(self, current_grid):\n",
        "    imshow(zoom(to_rgb(current_grid[0]), 6), fmt = 'png')\n",
        "\n",
        "  def grow(self, nsteps):\n",
        "    \"\"\"Display growth from seed to target\n",
        "\n",
        "    Args:\n",
        "      nsteps: grow for this many steps\n",
        "    \"\"\"\n",
        "    self.set_seed()\n",
        "    x = self.state_grid\n",
        "    step = 1\n",
        "    self.display_current_state(x)\n",
        "    for i in range(nsteps):\n",
        "      print(\"Time step \", step)\n",
        "      x = self.apply_model_step(x)\n",
        "      self.display_current_state(x)\n",
        "      step += 1\n",
        "    loss = tf.reduce_mean(calc_loss(self.padded_target, x))\n",
        "    print(\"Current Loss: \", tf.get_static_value(loss))\n",
        "\n",
        "  @tf.function\n",
        "  def apply_model_step(self, input_img):\n",
        "    \"\"\"apply_model_step takes one time step forward in the RNN by calling the\n",
        "     Sobel filters and passes the concatenated output into the Conv2D layers.\n",
        "     The delta produced by the model is added to the state_grid if that specific\n",
        "     cell is alive both before and after the update.\n",
        "\n",
        "    Args:\n",
        "      input_img: current state of the grid\n",
        "    Returns:\n",
        "      The updated state_grid\n",
        "    \"\"\"\n",
        "    alive_before_update = self.get_living_mask(input_img)\n",
        "    delta = self.model(input_img)\n",
        "    new_img = input_img + delta\n",
        "    still_living = self.get_living_mask(new_img)\n",
        "    live = tf.cast(alive_before_update&still_living, tf.float32)\n",
        "    return new_img * live\n",
        "\n",
        "  @tf.function\n",
        "  def train_step(self, input_img):\n",
        "    \"\"\"train_step calculates the gradients for an RNN of length RNN_length.\n",
        "    train_step is called by train to be repeated ntimes. tf.Gradient tape watches all the weights\n",
        "    and treats them as variables for backpropagation. g.gradient calculates the gradient vectors after\n",
        "    the end of the RNN loop. The gradients are then normalized before the weights are updated.\n",
        "\n",
        "    Args:\n",
        "      input_img: current state of the grid\n",
        "    Returns:\n",
        "      The new state_grid and the loss\n",
        "    \"\"\"\n",
        "    RNN_length = 100\n",
        "    x = input_img\n",
        "    with tf.GradientTape() as g:\n",
        "      for i in range(RNN_length):\n",
        "        x = self.apply_model_step(x)\n",
        "      loss = calc_loss(self.padded_target, x)\n",
        "    grads = g.gradient(loss, self.model.trainable_weights)\n",
        "    grads = [grad / (tf.norm(grad) + 1e-8) for grad in grads]\n",
        "    self.opt.apply_gradients(zip(grads, self.model.trainable_weights))\n",
        "    return x, loss\n",
        "\n",
        "  def train(self, ntimes):\n",
        "    \"\"\"trains an emoji model's weights ntimes by calling train_step on the starting seed.\n",
        "    Displays the current training step, loss, and training time.\n",
        "\n",
        "    Args:\n",
        "      ntimes: trains the model n times\n",
        "    \"\"\"\n",
        "    print(\"Training Steps Completed: \" + str(self.update_count))\n",
        "    for i in tqdm(range(ntimes)):\n",
        "      self.set_seed()\n",
        "      new_grid,loss = self.train_step(self.state_grid)\n",
        "      self.update_count += 1\n",
        "      self.state_grid = new_grid\n",
        "      print(\"Training Steps Completed: \" + str(self.update_count))\n",
        "      print(\"Loss:\"), tf.print(loss)\n",
        "      self.display_current_state(self.state_grid)\n",
        "    return"
      ]
    },
    {
      "cell_type": "markdown",
      "metadata": {
        "id": "2Wxg1cgjU-s5"
      },
      "source": [
        "1. Create new model:"
      ]
    },
    {
      "cell_type": "code",
      "execution_count": 7,
      "metadata": {
        "id": "lJGuw-Va29A0",
        "colab": {
          "base_uri": "https://localhost:8080/"
        },
        "outputId": "0365d4f2-c152-4250-f5bc-b72c605c8da3"
      },
      "outputs": [
        {
          "output_type": "stream",
          "name": "stdout",
          "text": [
            "(None, 72, 72, 48)\n",
            "Model: \"model\"\n",
            "__________________________________________________________________________________________________\n",
            " Layer (type)                Output Shape                 Param #   Connected to                  \n",
            "==================================================================================================\n",
            " input_1 (InputLayer)        [(None, 72, 72, 16)]         0         []                            \n",
            "                                                                                                  \n",
            " depthwise_conv2d (Depthwis  (None, 72, 72, 16)           144       ['input_1[0][0]']             \n",
            " eConv2D)                                                                                         \n",
            "                                                                                                  \n",
            " depthwise_conv2d_1 (Depthw  (None, 72, 72, 16)           144       ['input_1[0][0]']             \n",
            " iseConv2D)                                                                                       \n",
            "                                                                                                  \n",
            " concatenate (Concatenate)   (None, 72, 72, 48)           0         ['depthwise_conv2d[0][0]',    \n",
            "                                                                     'depthwise_conv2d_1[0][0]',  \n",
            "                                                                     'input_1[0][0]']             \n",
            "                                                                                                  \n",
            " conv2d (Conv2D)             (None, 72, 72, 128)          55424     ['concatenate[0][0]']         \n",
            "                                                                                                  \n",
            " conv2d_1 (Conv2D)           (None, 72, 72, 16)           2064      ['conv2d[0][0]']              \n",
            "                                                                                                  \n",
            "==================================================================================================\n",
            "Total params: 57776 (225.69 KB)\n",
            "Trainable params: 57488 (224.56 KB)\n",
            "Non-trainable params: 288 (1.12 KB)\n",
            "__________________________________________________________________________________________________\n"
          ]
        }
      ],
      "source": [
        "from keras.optimizers.schedules import PiecewiseConstantDecay\n",
        "from keras.optimizers.schedules import ExponentialDecay\n",
        "\n",
        "# Sobel filters in x direction\n",
        "\n",
        "sobelx_kernel = np.zeros((3,3, num_channels))\n",
        "\n",
        "for i in range(num_channels):\n",
        "  sobelx_kernel[:,:,i] = np.array([[-1,0,1], [-2,0,2], [-1,0,1]])\n",
        "\n",
        "sobelx_kernel = sobelx_kernel.reshape((3, 3, num_channels, 1))\n",
        "\n",
        "def Sobelx_init(shape, dtype=None):\n",
        "  return sobelx_kernel\n",
        "\n",
        "Sobelx_layer = DepthwiseConv2D(kernel_size = 3, depthwise_initializer = Sobelx_init, use_bias = False, padding = \"same\")\n",
        "Sobelx_layer.trainable = False\n",
        "\n",
        "# Sobel filters in y direction\n",
        "\n",
        "sobely_kernel = np.zeros((3,3, num_channels))\n",
        "\n",
        "for i in range(num_channels):\n",
        "  sobely_kernel[:,:,i] = np.array([[-1,0,1], [-2,0,2], [-1,0,1]]).T\n",
        "\n",
        "sobely_kernel = sobely_kernel.reshape((3, 3, num_channels, 1))\n",
        "\n",
        "def Sobely_init(shape, dtype=None):\n",
        "  return sobely_kernel\n",
        "\n",
        "Sobely_layer = DepthwiseConv2D(kernel_size = 3, depthwise_initializer = Sobely_init, use_bias = False, padding = \"same\")\n",
        "Sobely_layer.trainable = False\n",
        "\n",
        "# Model concatenates output of sobel layers with the current state and passes through two Conv2D layers\n",
        "\n",
        "image = Input(shape = (image_size, image_size, num_channels))\n",
        "Sobel_x = Sobelx_layer(image)\n",
        "Sobel_y = Sobely_layer(image)\n",
        "concat = concatenate([Sobel_x, Sobel_y, image])\n",
        "print(concat.shape)\n",
        "dense1 = Conv2D(128, 3, activation = 'relu', bias_initializer = 'zeros', padding = 'same')(concat)\n",
        "dense2=Conv2D(16, 1, activation = None, kernel_initializer = 'zeros', bias_initializer = 'zeros')(dense1)\n",
        "model_step = Model(image, dense2)\n",
        "model_step.summary()\n",
        "\n",
        "lr = 1e-3\n",
        "lr_sched = tf.keras.optimizers.schedules.ExponentialDecay(lr, 100, 0.9)\n",
        "#lr_sched = tf.keras.optimizers.schedules.PiecewiseConstantDecay([2000], [lr,lr*.01])\n",
        "opt = tf.keras.optimizers.Adam(lr_sched)"
      ]
    },
    {
      "cell_type": "markdown",
      "metadata": {
        "id": "hMHYaHtH237j"
      },
      "source": [
        "Visualize model:"
      ]
    },
    {
      "cell_type": "code",
      "execution_count": 8,
      "metadata": {
        "colab": {
          "base_uri": "https://localhost:8080/",
          "height": 686
        },
        "id": "mMxzLyoboEJR",
        "outputId": "6f60a8a7-5df4-4472-9786-ecb55d480946"
      },
      "outputs": [
        {
          "output_type": "execute_result",
          "data": {
            "image/png": "[encoded data removed]",
            "text/plain": [
              "<IPython.core.display.Image object>"
            ]
          },
          "metadata": {},
          "execution_count": 8
        }
      ],
      "source": [
        "keras.utils.plot_model(model_step,show_shapes=True,show_dtype=True,show_layer_activations=True)"
      ]
    },
    {
      "cell_type": "markdown",
      "metadata": {
        "id": "kBsdD7rMzr_W"
      },
      "source": [
        "2. Initialize:"
      ]
    },
    {
      "cell_type": "code",
      "execution_count": 9,
      "metadata": {
        "colab": {
          "base_uri": "https://localhost:8080/"
        },
        "id": "fn8B7aw41Lwc",
        "outputId": "6ad9c4c5-976b-438f-c491-be6d32a1ba51"
      },
      "outputs": [
        {
          "output_type": "stream",
          "name": "stdout",
          "text": [
            "Seed and target initialized\n"
          ]
        }
      ],
      "source": [
        "grid = CA(target_img)"
      ]
    },
    {
      "cell_type": "markdown",
      "metadata": {
        "id": "_g1MH2dp0U9O"
      },
      "source": [
        "3. Train:"
      ]
    },
    {
      "cell_type": "code",
      "execution_count": null,
      "metadata": {
        "id": "ZgkpXJ6n8RDD"
      },
      "outputs": [],
      "source": [
        "grid.train(400)"
      ]
    },
    {
      "cell_type": "markdown",
      "metadata": {
        "id": "Ew60vrhQ9ElX"
      },
      "source": [
        "Watch it grow for n steps:<br>(If you use a number > 100, you will see the instability when it grows past the number of steps it was trained for)"
      ]
    },
    {
      "cell_type": "code",
      "execution_count": null,
      "metadata": {
        "id": "CvTwTtgSQube"
      },
      "outputs": [],
      "source": [
        "grid.grow(100)"
      ]
    },
    {
      "cell_type": "markdown",
      "metadata": {
        "id": "HV64Z-SOz_q2"
      },
      "source": [
        "To save weights:"
      ]
    },
    {
      "cell_type": "code",
      "execution_count": null,
      "metadata": {
        "id": "4TrUE6F66h4Y"
      },
      "outputs": [],
      "source": [
        "model_step.save_weights('put name here.h5')"
      ]
    },
    {
      "cell_type": "markdown",
      "metadata": {
        "id": "euK3U9s5zkix"
      },
      "source": [
        "To load past weights:<br>\n",
        "Click the folder icon and upload the weights file to colab. Insert the path below."
      ]
    },
    {
      "cell_type": "code",
      "execution_count": null,
      "metadata": {
        "id": "9a5SlXMwWIpl"
      },
      "outputs": [],
      "source": [
        "grid = CA(target_img)\n",
        "model_step.load_weights('/content/lizard_500.h5') # <- put your path here"
      ]
    },
    {
      "cell_type": "code",
      "execution_count": null,
      "metadata": {
        "id": "yLUFBb3jtQS-"
      },
      "outputs": [],
      "source": [
        "grid.grow(100)"
      ]
    }
  ],
  "metadata": {
    "colab": {
      "provenance": []
    },
    "kernelspec": {
      "display_name": "Python 3",
      "name": "python3"
    },
    "language_info": {
      "name": "python"
    }
  },
  "nbformat": 4,
  "nbformat_minor": 0
}